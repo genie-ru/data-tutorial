{
 "cells": [
  {
   "cell_type": "code",
   "execution_count": 1,
   "id": "cade89b8-4f4d-41e6-ac0c-3d8d7669df19",
   "metadata": {
    "tags": []
   },
   "outputs": [],
   "source": [
    "an_apple = 27"
   ]
  },
  {
   "cell_type": "code",
   "execution_count": 2,
   "id": "fcbd05f8-78de-44f4-a6d7-1662ac653d50",
   "metadata": {
    "tags": []
   },
   "outputs": [],
   "source": [
    "an_apple = 42"
   ]
  },
  {
   "cell_type": "code",
   "execution_count": 5,
   "id": "4b534d7d-b508-4499-ba15-99ddf178a987",
   "metadata": {
    "tags": []
   },
   "outputs": [
    {
     "data": {
      "text/plain": [
       "42"
      ]
     },
     "execution_count": 5,
     "metadata": {},
     "output_type": "execute_result"
    }
   ],
   "source": [
    "# Tabでタブ補完される\n",
    "an_apple"
   ]
  },
  {
   "cell_type": "code",
   "execution_count": 6,
   "id": "c9c7db1d-697d-4bd4-890c-da3cfea908a2",
   "metadata": {
    "tags": []
   },
   "outputs": [],
   "source": [
    "import datetime"
   ]
  },
  {
   "cell_type": "code",
   "execution_count": 7,
   "id": "1a970f66-0ec0-40ce-aeff-f44bb120231f",
   "metadata": {
    "tags": []
   },
   "outputs": [
    {
     "data": {
      "text/plain": [
       "datetime.date"
      ]
     },
     "execution_count": 7,
     "metadata": {},
     "output_type": "execute_result"
    }
   ],
   "source": [
    "datetime.date"
   ]
  },
  {
   "cell_type": "code",
   "execution_count": 8,
   "id": "16f32c21-daab-4f9d-9682-9e01f216f7fc",
   "metadata": {
    "tags": []
   },
   "outputs": [
    {
     "data": {
      "text/plain": [
       "\u001b[0;31mType:\u001b[0m        list\n",
       "\u001b[0;31mString form:\u001b[0m [1, 2, 3]\n",
       "\u001b[0;31mLength:\u001b[0m      3\n",
       "\u001b[0;31mDocstring:\u001b[0m  \n",
       "Built-in mutable sequence.\n",
       "\n",
       "If no argument is given, the constructor creates a new empty list.\n",
       "The argument must be an iterable if specified."
      ]
     },
     "metadata": {},
     "output_type": "display_data"
    }
   ],
   "source": [
    "b = [1, 2, 3]\n",
    "b?"
   ]
  },
  {
   "cell_type": "code",
   "execution_count": 9,
   "id": "d6105dec-41a4-4130-ac36-791fdfd2fd4a",
   "metadata": {
    "tags": []
   },
   "outputs": [
    {
     "data": {
      "text/plain": [
       "\u001b[0;31mSignature:\u001b[0m \u001b[0mprint\u001b[0m\u001b[0;34m(\u001b[0m\u001b[0;34m*\u001b[0m\u001b[0margs\u001b[0m\u001b[0;34m,\u001b[0m \u001b[0msep\u001b[0m\u001b[0;34m=\u001b[0m\u001b[0;34m' '\u001b[0m\u001b[0;34m,\u001b[0m \u001b[0mend\u001b[0m\u001b[0;34m=\u001b[0m\u001b[0;34m'\\n'\u001b[0m\u001b[0;34m,\u001b[0m \u001b[0mfile\u001b[0m\u001b[0;34m=\u001b[0m\u001b[0;32mNone\u001b[0m\u001b[0;34m,\u001b[0m \u001b[0mflush\u001b[0m\u001b[0;34m=\u001b[0m\u001b[0;32mFalse\u001b[0m\u001b[0;34m)\u001b[0m\u001b[0;34m\u001b[0m\u001b[0;34m\u001b[0m\u001b[0m\n",
       "\u001b[0;31mDocstring:\u001b[0m\n",
       "Prints the values to a stream, or to sys.stdout by default.\n",
       "\n",
       "sep\n",
       "  string inserted between values, default a space.\n",
       "end\n",
       "  string appended after the last value, default a newline.\n",
       "file\n",
       "  a file-like object (stream); defaults to the current sys.stdout.\n",
       "flush\n",
       "  whether to forcibly flush the stream.\n",
       "\u001b[0;31mType:\u001b[0m      builtin_function_or_method"
      ]
     },
     "metadata": {},
     "output_type": "display_data"
    }
   ],
   "source": [
    "print?"
   ]
  },
  {
   "cell_type": "code",
   "execution_count": 11,
   "id": "c808b3d9-4a8a-4d6c-995d-8f4ae4481b93",
   "metadata": {
    "tags": []
   },
   "outputs": [],
   "source": [
    "def add_number(a, b):\n",
    "    \"\"\"\n",
    "    Add two numbers together\n",
    "    \n",
    "    Returns\n",
    "    --------\n",
    "    the_sum : type of arguments\n",
    "    \"\"\"\n",
    "    return a + b;"
   ]
  },
  {
   "cell_type": "code",
   "execution_count": 13,
   "id": "a0a612c3-2ef0-4e3a-bddf-276e9658b7a6",
   "metadata": {
    "tags": []
   },
   "outputs": [
    {
     "data": {
      "text/plain": [
       "\u001b[0;31mSignature:\u001b[0m \u001b[0madd_number\u001b[0m\u001b[0;34m(\u001b[0m\u001b[0ma\u001b[0m\u001b[0;34m,\u001b[0m \u001b[0mb\u001b[0m\u001b[0;34m)\u001b[0m\u001b[0;34m\u001b[0m\u001b[0;34m\u001b[0m\u001b[0m\n",
       "\u001b[0;31mDocstring:\u001b[0m\n",
       "Add two numbers together\n",
       "\n",
       "Returns\n",
       "--------\n",
       "the_sum : type of arguments\n",
       "\u001b[0;31mFile:\u001b[0m      /tmp/ipykernel_55/3848177588.py\n",
       "\u001b[0;31mType:\u001b[0m      function"
      ]
     },
     "metadata": {},
     "output_type": "display_data"
    }
   ],
   "source": [
    "add_number?"
   ]
  },
  {
   "cell_type": "code",
   "execution_count": 15,
   "id": "51820a03-8e19-4037-af41-506cbbe7db77",
   "metadata": {
    "tags": []
   },
   "outputs": [
    {
     "data": {
      "text/plain": [
       "np.load"
      ]
     },
     "metadata": {},
     "output_type": "display_data"
    }
   ],
   "source": [
    "import numpy as np\n",
    "np.*load?"
   ]
  },
  {
   "cell_type": "code",
   "execution_count": 18,
   "id": "1670d8c0-b1c6-4d2b-b4c4-258f06bda0c8",
   "metadata": {
    "tags": []
   },
   "outputs": [],
   "source": [
    "# def f(x, y, z):\n",
    "#     return (x + y) /z\n",
    "# a = 5\n",
    "# b = 6\n",
    "# c = 7.5\n",
    "\n",
    "# result = f(a, b, c)"
   ]
  },
  {
   "cell_type": "code",
   "execution_count": 19,
   "id": "0bc1d020-135c-4e6f-b5e5-fddf9c3a8fa2",
   "metadata": {
    "tags": []
   },
   "outputs": [],
   "source": [
    "%run ipython_script_test.py"
   ]
  },
  {
   "cell_type": "code",
   "execution_count": 20,
   "id": "efa97a9b-902f-4138-8543-1016647038a5",
   "metadata": {
    "tags": []
   },
   "outputs": [
    {
     "data": {
      "text/plain": [
       "7.5"
      ]
     },
     "execution_count": 20,
     "metadata": {},
     "output_type": "execute_result"
    }
   ],
   "source": [
    "c"
   ]
  },
  {
   "cell_type": "code",
   "execution_count": 21,
   "id": "b09d9c2b-5679-4d10-9e3d-e85cc265829e",
   "metadata": {
    "tags": []
   },
   "outputs": [
    {
     "data": {
      "text/plain": [
       "1.4666666666666666"
      ]
     },
     "execution_count": 21,
     "metadata": {},
     "output_type": "execute_result"
    }
   ],
   "source": [
    "result"
   ]
  },
  {
   "cell_type": "code",
   "execution_count": 24,
   "id": "5da9a43a-bf4e-4a7a-acc6-b410dbc68e82",
   "metadata": {
    "tags": []
   },
   "outputs": [],
   "source": [
    "# %load ipython_script_test.py\n"
   ]
  },
  {
   "cell_type": "code",
   "execution_count": null,
   "id": "d1cf7458-84c5-4137-a10b-eaa290547265",
   "metadata": {},
   "outputs": [],
   "source": []
  }
 ],
 "metadata": {
  "kernelspec": {
   "display_name": "Python 3 (ipykernel)",
   "language": "python",
   "name": "python3"
  },
  "language_info": {
   "codemirror_mode": {
    "name": "ipython",
    "version": 3
   },
   "file_extension": ".py",
   "mimetype": "text/x-python",
   "name": "python",
   "nbconvert_exporter": "python",
   "pygments_lexer": "ipython3",
   "version": "3.11.4"
  }
 },
 "nbformat": 4,
 "nbformat_minor": 5
}
